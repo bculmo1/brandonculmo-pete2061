{
 "cells": [
  {
   "cell_type": "markdown",
   "metadata": {},
   "source": [
    "\n",
    " # Databases\n",
    "\n",
    "## PETE 2061 Lab 11\n",
    "\n",
    "<a id='top'></a>"
   ]
  },
  {
   "cell_type": "markdown",
   "metadata": {},
   "source": [
    "## Load required python packages"
   ]
  },
  {
   "cell_type": "code",
   "execution_count": 1,
   "metadata": {},
   "outputs": [],
   "source": [
    "import numpy as np\n",
    "import matplotlib.pyplot as plt\n",
    "import seaborn as sns\n",
    "import pandas as pd\n",
    "import sqlite3\n",
    "%matplotlib inline"
   ]
  },
  {
   "cell_type": "code",
   "execution_count": 2,
   "metadata": {},
   "outputs": [
    {
     "name": "stdout",
     "output_type": "stream",
     "text": [
      "['DCARegression', 'DCA Forecast']\n"
     ]
    }
   ],
   "source": [
    "# Load spreadsheet\n",
    "xl = pd.ExcelFile('DCAwells_Solved/DCA_Well 2.xlsx')\n",
    "# Print the sheet names\n",
    "print(xl.sheet_names)\n",
    "\n",
    "# Load a sheet into a DataFrame by name: df1\n",
    "df1 = xl.parse('DCARegression')"
   ]
  },
  {
   "cell_type": "code",
   "execution_count": 27,
   "metadata": {},
   "outputs": [],
   "source": [
    "conn = sqlite3.connect(\"DCA.db\")\n",
    "cur = conn.cursor()\n",
    "cur.execute(\"CREATE TABLE DCAparams2 (wellID INTEGER,  qi REAL, Di REAL, b REAL)\")\n",
    "conn.commit()"
   ]
  },
  {
   "cell_type": "markdown",
   "metadata": {},
   "source": [
    "## Lab 11 (Create your new .ipynb or .py file )\n",
    "* Using the code given in this workbook (or the db_manipulation.py), write a Python code that loops through all given 17 wells. In each iteration of the loop:\n",
    "    * Insert the Decline curve analysis model parameters into the DCAparams table in the database\n",
    "    * Insert the actual and model rates and cumulative production into the Rates table in the database\n",
    "    * Plot and save a figure of the rate and cumulative production vs time (in months).\n",
    "<br>    \n",
    "Hint: You need to use the exponential model if b = 0, and the hyperbolic model otherwise."
   ]
  },
  {
   "cell_type": "code",
   "execution_count": 44,
   "metadata": {},
   "outputs": [
    {
     "ename": "SyntaxError",
     "evalue": "invalid syntax (<ipython-input-44-488e95fb18e7>, line 45)",
     "output_type": "error",
     "traceback": [
      "\u001b[1;36m  File \u001b[1;32m\"<ipython-input-44-488e95fb18e7>\"\u001b[1;36m, line \u001b[1;32m45\u001b[0m\n\u001b[1;33m    xtick=range(0,30,5)\u001b[0m\n\u001b[1;37m        ^\u001b[0m\n\u001b[1;31mSyntaxError\u001b[0m\u001b[1;31m:\u001b[0m invalid syntax\n"
     ]
    }
   ],
   "source": [
    "dfLength = 24\n",
    "wellID = 1\n",
    "rateDF = pd.DataFrame({'wellID':wellID*np.ones(dfLength,dtype=int), 'time':range(1,dfLength+1),'rate':df1.iloc[8:32,1].values})\n",
    "rateDF['Cum'] = rateDF['rate'].cumsum()\n",
    "qi = df1.iloc[2,3]\n",
    "Di = df1.iloc[3,3]\n",
    "b  = df1.iloc[4,3]\n",
    "cur.execute(\"INSERT INTO DCAparams2 VALUES ({},{},{},{})\".format(wellID, qi, Di, b))\n",
    "conn.commit()\n",
    "t=np.arange(1,dfLength+1)\n",
    "Di=Di/12\n",
    "if b>0:\n",
    "    q = 30.4375*qi/((1 + b*Di*t)**(1/b))\n",
    "    Np = 30.4375*(qi/(Di*(1-b)))*(1-(1/(1+(b*Di*t))**((1-b)/b))) #30.4375 = 365.125/12\n",
    "else:\n",
    "    q= 30.4375*qi*np.exp(-Di*t)\n",
    "    Np=30.4375*((qi/Di)*(np.exp(-Di*t)/Di))\n",
    "error_q = rateDF['rate'].values - q\n",
    "SSE_q = np.dot(error_q, error_q)\n",
    "errorNp = rateDF['Cum'].values - Np\n",
    "SSE_Np = np.dot(errorNp,errorNp)\n",
    "rateDF['q_model'] = q\n",
    "rateDF['Cum_model'] = Np\n",
    "rateDF.to_sql(\"Rates\", conn, if_exists=\"append\", index = False)\n",
    "df1 = pd.read_sql_query(\"SELECT * FROM Rates;\", conn)\n",
    "df2 = pd.read_sql_query(\"SELECT * FROM DCAparams;\", conn)\n",
    "conn.close()\n",
    "conn = sqlite3.connect(\"DCA.db\")\n",
    "wellID = 1\n",
    "df1 = pd.read_sql_query(\"SELECT * FROM Rates WHERE wellID = {};\".format(wellID), conn)\n",
    "titleFontSize = 18\n",
    "axisLabelFontSize = 15\n",
    "axisNumFontSize = 13\n",
    "currFig2 = plt.figure(figsize=(7,5), dpi=100)\n",
    "axes = currFig2.add_axes([0.15, 0.15, 0.7, 0.7])\n",
    "axes.plot(df1['time'], df1['Cum']/1000, color=\"red\", ls='None', marker='o', markersize=5,label = 'well '+str(wellID) )\n",
    "axes.plot(df1['time'], df1['Cum_model']/1000, color=\"red\", lw=3, ls='-',label = 'well '+str(wellID) )\n",
    "axes.legend(loc=4)\n",
    "axes.set_title('Cumulative Production vs Time', fontsize=titleFontSize, fontweight='bold')\n",
    "axes.set_xlabel('Time, Months', fontsize=axisLabelFontSize, fontweight='bold') # Notice the use of set_ to begin methods\n",
    "axes.set_ylabel('Cumulative Production, Mbbls', fontsize=axisLabelFontSize, fontweight='bold')\n",
    "axes.set_ylim([0, 1200])\n",
    "axes.set_xlim([0, 25]\n",
    "              \n",
    "xtick=range(0,30,5)\n",
    "axes.set_xticks(xticks)\n",
    "axes.set_xticklabels(xticks, fontsize=axisNumFontSize); \n",
    "yticks = [0, 400, 800, 1200]\n",
    "axes.set_yticks(yticks)\n",
    "axes.set_yticklabels(yticks, fontsize=axisNumFontSize);\n",
    "currFig.savefig('well'+str(wellID)+'_Gp.png', dpi=600)"
   ]
  }
 ],
 "metadata": {
  "kernelspec": {
   "display_name": "Python 3",
   "language": "python",
   "name": "python3"
  },
  "language_info": {
   "codemirror_mode": {
    "name": "ipython",
    "version": 3
   },
   "file_extension": ".py",
   "mimetype": "text/x-python",
   "name": "python",
   "nbconvert_exporter": "python",
   "pygments_lexer": "ipython3",
   "version": "3.7.3"
  }
 },
 "nbformat": 4,
 "nbformat_minor": 2
}
